{
  "nbformat": 4,
  "nbformat_minor": 0,
  "metadata": {
    "colab": {
      "provenance": [],
      "authorship_tag": "ABX9TyNUcrY8k3mbOmSPxGCSWqT2",
      "include_colab_link": true
    },
    "kernelspec": {
      "name": "python3",
      "display_name": "Python 3"
    },
    "language_info": {
      "name": "python"
    }
  },
  "cells": [
    {
      "cell_type": "markdown",
      "metadata": {
        "id": "view-in-github",
        "colab_type": "text"
      },
      "source": [
        "<a href=\"https://colab.research.google.com/github/nancy-shih/Olympic/blob/main/Olympics.ipynb\" target=\"_parent\"><img src=\"https://colab.research.google.com/assets/colab-badge.svg\" alt=\"Open In Colab\"/></a>"
      ]
    },
    {
      "cell_type": "markdown",
      "source": [],
      "metadata": {
        "id": "SBKkhFzeUkmi"
      }
    },
    {
      "cell_type": "code",
      "source": [],
      "metadata": {
        "id": "U8LdBym_n9nJ"
      },
      "execution_count": null,
      "outputs": []
    },
    {
      "cell_type": "markdown",
      "source": [
        "## 2021 tokyo Team USA roster"
      ],
      "metadata": {
        "id": "QptpNBLQUd7O"
      }
    },
    {
      "cell_type": "code",
      "source": [
        "pip install beautifulsoup4 pandas\n"
      ],
      "metadata": {
        "colab": {
          "base_uri": "https://localhost:8080/"
        },
        "id": "HN97b4fSR-R3",
        "outputId": "3d39962b-c5c7-4d00-a4d6-7201dd0a1c5d"
      },
      "execution_count": 87,
      "outputs": [
        {
          "output_type": "stream",
          "name": "stdout",
          "text": [
            "Requirement already satisfied: beautifulsoup4 in /usr/local/lib/python3.10/dist-packages (4.12.3)\n",
            "Requirement already satisfied: pandas in /usr/local/lib/python3.10/dist-packages (2.0.3)\n",
            "Requirement already satisfied: soupsieve>1.2 in /usr/local/lib/python3.10/dist-packages (from beautifulsoup4) (2.5)\n",
            "Requirement already satisfied: python-dateutil>=2.8.2 in /usr/local/lib/python3.10/dist-packages (from pandas) (2.8.2)\n",
            "Requirement already satisfied: pytz>=2020.1 in /usr/local/lib/python3.10/dist-packages (from pandas) (2023.4)\n",
            "Requirement already satisfied: tzdata>=2022.1 in /usr/local/lib/python3.10/dist-packages (from pandas) (2024.1)\n",
            "Requirement already satisfied: numpy>=1.21.0 in /usr/local/lib/python3.10/dist-packages (from pandas) (1.25.2)\n",
            "Requirement already satisfied: six>=1.5 in /usr/local/lib/python3.10/dist-packages (from python-dateutil>=2.8.2->pandas) (1.16.0)\n"
          ]
        }
      ]
    },
    {
      "cell_type": "code",
      "source": [
        "import requests\n",
        "import pandas as pd\n",
        "from bs4 import BeautifulSoup\n",
        "\n",
        "# Step 1: Fetch the HTML content from the URL and save it to a file\n",
        "url = \"https://www.usatoday.com/storytelling/2021-olympics-tokyo-team-usa-roster/USA/all/\"\n",
        "response = requests.get(url)\n",
        "\n",
        "if response.status_code == 200:\n",
        "    with open(\"team_usa_roster.html\", \"w\", encoding=\"utf-8\") as file:\n",
        "        file.write(response.text)\n",
        "else:\n",
        "    print(f\"Failed to fetch the page. Status code: {response.status_code}\")\n",
        "\n",
        "# Step 2: Read the saved HTML file, parse it, extract data, and save it to a CSV file\n",
        "# Load the HTML file\n",
        "with open('team_usa_roster.html', 'r', encoding='utf-8') as file:\n",
        "    html_content = file.read()\n",
        "\n",
        "# Parse the HTML content using BeautifulSoup\n",
        "soup = BeautifulSoup(html_content, 'html.parser')\n"
      ],
      "metadata": {
        "id": "b8fcf5D8S2JP"
      },
      "execution_count": 88,
      "outputs": []
    },
    {
      "cell_type": "code",
      "source": [
        "import requests\n",
        "import pandas as pd\n",
        "# Initialize lists to store data\n",
        "athletes = []\n",
        "hometowns = []\n",
        "birthplaces = []\n",
        "ages = []\n",
        "\n",
        "# Find all athlete entries\n",
        "athlete_entries = soup.find_all('li', class_='athlete')\n",
        "\n",
        "# Iterate through each athlete entry\n",
        "for athlete in athlete_entries:\n",
        "    # Extract athlete name\n",
        "    name_element = athlete.find('h3', class_='athlete__name')\n",
        "    name = name_element.text.strip() if name_element else ''\n",
        "    athletes.append(name)\n",
        "\n",
        "    # Extract athlete details\n",
        "    details = athlete.find_all('li', class_='athlete__detail')\n",
        "\n",
        "    # Initialize default values for details\n",
        "    hometown = ''\n",
        "    birthplace = ''\n",
        "    age = ''\n",
        "\n",
        "    # Iterate through details to find specific information\n",
        "    for detail in details:\n",
        "        if 'Hometown:' in detail.text:\n",
        "            hometown = detail.find('span', class_='athlete__value').text.strip()\n",
        "        elif 'Birthplace:' in detail.text:\n",
        "            birthplace = detail.find('span', class_='athlete__value').text.strip()\n",
        "        elif 'Age:' in detail.text:\n",
        "            age = detail.find('span', class_='athlete__value').text.strip()\n",
        "\n",
        "    # Append details to lists\n",
        "    hometowns.append(hometown)\n",
        "    birthplaces.append(birthplace)\n",
        "    ages.append(age)\n",
        "\n",
        "# Create a DataFrame\n",
        "data = {\n",
        "    'Athlete': athletes,\n",
        "    'Hometown': hometowns,\n",
        "    'Birthplace': birthplaces,\n",
        "    'Age': ages\n",
        "}\n",
        "\n",
        "df_2021 = pd.DataFrame(data)\n",
        "\n",
        "\n",
        "# Display the first 10 rows of the DataFrame\n",
        "print(df_2021.head(10))\n"
      ],
      "metadata": {
        "colab": {
          "base_uri": "https://localhost:8080/"
        },
        "id": "aP4F3cmUnIb-",
        "outputId": "ae505ae4-415e-4829-bc82-7866212fb25f"
      },
      "execution_count": 89,
      "outputs": [
        {
          "output_type": "stream",
          "name": "stdout",
          "text": [
            "                     Athlete             Hometown       Birthplace Age\n",
            "0            Mackenzie Brown         Flint, Texas     Flint, Texas  26\n",
            "1              Brady Ellison         Globe, Ariz.                   32\n",
            "2             Casey Kaufhold       Lancaster, Pa.                   17\n",
            "3  Jennifer Mucino-Fernandez  Mexico City, Mexico           Boston  18\n",
            "4              Jack Williams       Irvine, Calif.   Irvine, Calif.  21\n",
            "5                Jacob Wukie     Oak Harbor, Ohio  Massillon, Ohio  35\n",
            "6               Phillip Chew       Orange, Calif.  Anaheim, Calif.  27\n",
            "7                  Ryan Chew                                        24\n",
            "8                Timothy Lam                                        23\n",
            "9               Beiwen Zhang            Las Vegas                   31\n"
          ]
        }
      ]
    }
  ]
}